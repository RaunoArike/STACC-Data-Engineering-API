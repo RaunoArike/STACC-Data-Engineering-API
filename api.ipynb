{
 "cells": [
  {
   "cell_type": "code",
   "execution_count": 13,
   "id": "f798aca3",
   "metadata": {},
   "outputs": [],
   "source": [
    "from flask import Flask\n",
    "from flask_restful import Api, Resource\n",
    "\n",
    "app = Flask(__name__)\n",
    "api = Api(app)\n",
    "\n",
    "filename = \"data.txt\""
   ]
  },
  {
   "cell_type": "code",
   "execution_count": 14,
   "id": "e728fe7c",
   "metadata": {},
   "outputs": [],
   "source": [
    "def Convert(string):\n",
    "    retList = list(string.split(\", \"))\n",
    "    return retList"
   ]
  },
  {
   "cell_type": "code",
   "execution_count": 15,
   "id": "fc8f2e2e",
   "metadata": {},
   "outputs": [],
   "source": [
    "with open(filename, 'r') as f: \n",
    "    text = f.read();\n",
    "    stockStr = \"{S&P 500 stocks: \" + text + \"}\"\n",
    "    stockList = Convert(text)\n",
    "\n",
    "dct = {}\n",
    "for stock in stockList:\n",
    "    dct[stock] = stock[0]"
   ]
  },
  {
   "cell_type": "code",
   "execution_count": 16,
   "id": "0be5cdfc",
   "metadata": {},
   "outputs": [],
   "source": [
    "# Class for /stocks endpoint\n",
    "class Stock(Resource):\n",
    "    def get(self):\n",
    "        return stockStr"
   ]
  },
  {
   "cell_type": "code",
   "execution_count": 17,
   "id": "02fa00a3",
   "metadata": {},
   "outputs": [],
   "source": [
    "# Class for /stocks/<string:start-letter> endpoint\n",
    "class StockByLetter(Resource):\n",
    "    def get(self, start_letter):\n",
    "        start_letter = start_letter.upper()\n",
    "        retStr = \"{S&P 500 stock names starting with \" + start_letter + \": \"\n",
    "        for item in dct.items():\n",
    "            if item[1] == start_letter:\n",
    "                retStr += item[0] + \", \"\n",
    "        if retStr == \"{\" + start_letter + \": \":\n",
    "            retStr = \"There are no S&P 500 stock names that start with \" + start_letter\n",
    "        else:\n",
    "            retStr = retStr[:-2]\n",
    "            retStr += \"}\"\n",
    "        return retStr"
   ]
  },
  {
   "cell_type": "code",
   "execution_count": 18,
   "id": "2729abd0",
   "metadata": {},
   "outputs": [],
   "source": [
    "api.add_resource(Stock, \"/stocks\")\n",
    "api.add_resource(StockByLetter, \"/stocks/<string:start_letter>\")"
   ]
  },
  {
   "cell_type": "code",
   "execution_count": null,
   "id": "898f1a32",
   "metadata": {},
   "outputs": [
    {
     "name": "stdout",
     "output_type": "stream",
     "text": [
      " * Serving Flask app '__main__' (lazy loading)\n",
      " * Environment: production\n",
      "\u001b[31m   WARNING: This is a development server. Do not use it in a production deployment.\u001b[0m\n",
      "\u001b[2m   Use a production WSGI server instead.\u001b[0m\n",
      " * Debug mode: off\n"
     ]
    },
    {
     "name": "stderr",
     "output_type": "stream",
     "text": [
      " * Running on http://127.0.0.1:5000/ (Press CTRL+C to quit)\n"
     ]
    }
   ],
   "source": [
    "if __name__ == \"__main__\":\n",
    "    app.run(debug=False)"
   ]
  },
  {
   "cell_type": "code",
   "execution_count": null,
   "id": "890b6090",
   "metadata": {},
   "outputs": [],
   "source": [
    "# If I had more time for the project, I would try to include some PUT and DELETE endpoints as well and make it possible to sync and get new data with an API call."
   ]
  }
 ],
 "metadata": {
  "kernelspec": {
   "display_name": "Python 3 (ipykernel)",
   "language": "python",
   "name": "python3"
  },
  "language_info": {
   "codemirror_mode": {
    "name": "ipython",
    "version": 3
   },
   "file_extension": ".py",
   "mimetype": "text/x-python",
   "name": "python",
   "nbconvert_exporter": "python",
   "pygments_lexer": "ipython3",
   "version": "3.10.2"
  }
 },
 "nbformat": 4,
 "nbformat_minor": 5
}
